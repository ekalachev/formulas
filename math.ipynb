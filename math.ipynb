{
 "cells": [
  {
   "cell_type": "code",
   "execution_count": 1,
   "metadata": {},
   "outputs": [],
   "source": [
    "import numpy as np\n",
    "import pandas as pd\n",
    "\n",
    "import matplotlib.pyplot as plt\n",
    "import seaborn as sns \n",
    "%matplotlib inline"
   ]
  },
  {
   "cell_type": "markdown",
   "metadata": {},
   "source": [
    "# Gradient for a one-dimensional array\n",
    "$$\n",
    "\\hat f_{i} = \\frac{f(x_{i + 1}) - f(x_{i - 1})}{2h} + O(h^{2})\n",
    "$$\n",
    "\n",
    "> Where `2` in the denominator is a step (for the first and the last element in the array it has to be `1`).\n",
    "\n",
    "> `h` is the size of the grid (default is equal to 1).\n",
    "\n",
    "### Задание:\n",
    "Пусть дан одномерный массив f = np.array([8, 2, 8, 3, 5, 6, 5, 15])\n",
    "\n",
    "Вычислите градиент массива f, увеличив шаг сетки в 7 раз, и укажите значение 7-го элемента массива f получившихся градиентов"
   ]
  },
  {
   "cell_type": "code",
   "execution_count": 7,
   "metadata": {},
   "outputs": [
    {
     "name": "stdout",
     "output_type": "stream",
     "text": [
      "f = [ 8  2  8  3  5  6  5 15]\n",
      "[-0.85714286, 0.0, 0.07142857, -0.21428571, 0.21428571, 0.0, 0.64285714, 1.42857143]\n",
      "[-0.85714286  0.          0.07142857 -0.21428571  0.21428571  0.\n",
      "  0.64285714  1.42857143]\n"
     ]
    }
   ],
   "source": [
    "f = np.array([8, 2, 8, 3, 5, 6, 5, 15])\n",
    "print(f'f = {f}')\n",
    "\n",
    "def get_grad(f, i1, i2, h, step):\n",
    "    print(round((f[i1] - f[i2]) / (step * h), 8), end='' if len(f) == i1 + 1 and len(f) == i2 + 2 else ', ')\n",
    "\n",
    "print('[', end='')\n",
    "get_grad(f, 1, 0, 7, 1)\n",
    "     \n",
    "for i in range(1, 7):\n",
    "    get_grad(f, i + 1, i - 1, 7, 2)\n",
    "    \n",
    "get_grad(f, 7, 6, 7, 1)\n",
    "print(']')\n",
    "\n",
    "print(np.gradient(f, 7))"
   ]
  },
  {
   "cell_type": "code",
   "execution_count": null,
   "metadata": {},
   "outputs": [],
   "source": []
  }
 ],
 "metadata": {
  "kernelspec": {
   "display_name": "Python 3",
   "language": "python",
   "name": "python3"
  },
  "language_info": {
   "codemirror_mode": {
    "name": "ipython",
    "version": 3
   },
   "file_extension": ".py",
   "mimetype": "text/x-python",
   "name": "python",
   "nbconvert_exporter": "python",
   "pygments_lexer": "ipython3",
   "version": "3.8.5"
  }
 },
 "nbformat": 4,
 "nbformat_minor": 4
}
