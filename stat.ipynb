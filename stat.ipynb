{
 "cells": [
  {
   "cell_type": "code",
   "execution_count": 1,
   "metadata": {},
   "outputs": [],
   "source": [
    "import numpy as np\n",
    "import pandas as pd\n",
    "import math\n",
    "\n",
    "import matplotlib.pyplot as plt\n",
    "import seaborn as sns \n",
    "%matplotlib inline"
   ]
  },
  {
   "cell_type": "markdown",
   "metadata": {},
   "source": [
    "# Math Expectation (Математическое ожидание)\n",
    "\n",
    "Отвечает на вопрос: какого значения X ожидать в среднем ($\\mu$)?\n",
    "\n",
    "![stat_math_expectation](./img/stat_math_expectation.png)"
   ]
  },
  {
   "cell_type": "code",
   "execution_count": 2,
   "metadata": {},
   "outputs": [],
   "source": [
    "def math_expectation(df, x_column_name, probability_column_name):\n",
    "    return (df[x_column_name] * df[probability_column_name]).sum()"
   ]
  },
  {
   "cell_type": "markdown",
   "metadata": {},
   "source": [
    "### Привер\n",
    "\n",
    "Рассмотрим пример. Ваня хочет открыть свой бизнес, но выбранная им сфера деятельности требует получения лицензии.Известно, что не всегда удается получить ее с первого раза. Допустим, нам удалось собрать информацию о том, сколько попыток понадобилось предшественникам Вани. Посмотрим на эту таблицу:"
   ]
  },
  {
   "cell_type": "code",
   "execution_count": 3,
   "metadata": {},
   "outputs": [],
   "source": [
    "df = pd.DataFrame({\n",
    "    'number_of_attempts': [1, 2, 3, 4, 5, 6, 7, 8],\n",
    "    'probability': [0.05, 0.1, 0.3, 0.25, 0.15, 0.07, 0.05, 0.03]\n",
    "})"
   ]
  },
  {
   "cell_type": "code",
   "execution_count": 4,
   "metadata": {},
   "outputs": [
    {
     "data": {
      "text/plain": [
       "3.91"
      ]
     },
     "execution_count": 4,
     "metadata": {},
     "output_type": "execute_result"
    }
   ],
   "source": [
    "math_expectation(df, 'number_of_attempts', 'probability')"
   ]
  },
  {
   "cell_type": "code",
   "execution_count": null,
   "metadata": {},
   "outputs": [],
   "source": []
  },
  {
   "cell_type": "markdown",
   "metadata": {},
   "source": [
    "# Дисперсия и стандартное отклонение\n",
    "Стандартное отклонение случайной величины отвечает на вопрос: как далеко от среднего **$\\mu$** в среднем попадает **X**? Помним, что стандартное отклонение обозначается буквой $\\sigma$ («сигма»).\n",
    "\n",
    "![stat_std_deviation](./img/stat_std_deviation.png)"
   ]
  },
  {
   "cell_type": "markdown",
   "metadata": {},
   "source": [
    "# Дисперсия\n",
    "\n",
    "Дисперсия — это квадрат стандартного отклонения. Обозначается в англоязычной традиции сочетанием **Var(X)** (от англ. variance).\n",
    "\n",
    "По определению дисперсия — это математическое ожидание квадрата отклонения **X** от среднего $\\mu$. Используя определение математического ожидания, можно записать дисперсию как сумму значений $x_{i}$ минус $\\mu$ в квадрате, домноженную на вероятность данного значения  $x_{i}$:\n",
    "\n",
    "![stat_dispersion](./img/stat_dispersion.png)"
   ]
  },
  {
   "cell_type": "markdown",
   "metadata": {},
   "source": [
    "![stat_dispersion_example](./img/stat_dispersion_example.png)"
   ]
  },
  {
   "cell_type": "markdown",
   "metadata": {},
   "source": [
    "### Пример 1\n",
    "\n",
    "Для случайной величины X найдите дисперсию Var(X) и стандартное отклонение $\\sigma$:"
   ]
  },
  {
   "cell_type": "code",
   "execution_count": 5,
   "metadata": {},
   "outputs": [],
   "source": [
    "df = pd.DataFrame({\n",
    "    'X': [2, 3, 4, 5],\n",
    "    'probability': [0.1, 0.2, 0.6, 0.1]\n",
    "})"
   ]
  },
  {
   "cell_type": "code",
   "execution_count": 6,
   "metadata": {},
   "outputs": [
    {
     "data": {
      "text/plain": [
       "3.7"
      ]
     },
     "execution_count": 6,
     "metadata": {},
     "output_type": "execute_result"
    }
   ],
   "source": [
    "# Dispersion 'mu'\n",
    "mu = math_expectation(df, 'X', 'probability')\n",
    "mu"
   ]
  },
  {
   "cell_type": "code",
   "execution_count": 7,
   "metadata": {},
   "outputs": [],
   "source": [
    "# Standard deviation\n",
    "def std(df, dispersion, x_column_name, probability_column_name):\n",
    "    return math.sqrt(\n",
    "        df.apply(\n",
    "            lambda x: ((x[x_column_name] - dispersion)**2 * x[probability_column_name]), axis=1\n",
    "        ).sum()\n",
    "    )"
   ]
  },
  {
   "cell_type": "code",
   "execution_count": 8,
   "metadata": {},
   "outputs": [
    {
     "data": {
      "text/plain": [
       "0.7810249675906654"
      ]
     },
     "execution_count": 8,
     "metadata": {},
     "output_type": "execute_result"
    }
   ],
   "source": [
    "std(df, mu, 'X', 'probability')"
   ]
  },
  {
   "cell_type": "markdown",
   "metadata": {},
   "source": [
    "# Свойства дисперсии\n",
    "\n",
    "> Свойство 1. Дисперсия константы — это ноль. И правда, дисперсия — это мера изменчивости переменной. Если переменная не меняется, то и мера ее изменения будет равна нулю.\n",
    "![stat_disp_const](./img/stat_disp_const.jpg)\n",
    "\n",
    "> Свойство 2. Константу можно вынести за знак дисперсии в квадрате.\n",
    "![stat_disp_const](./img/stat_disp_const2.jpg)\n",
    "\n",
    "> Свойство 3. Дисперсия суммы (разности) случайных величин равна сумме дисперсий этих величин только если они независимы. В формуле мы видим элемент Cow, это ковариация. Если две случайные величины независимы, то дисперсия их суммы или разности — это просто сумма дисперсий этих случайных величин.\n",
    "![stat_disp_const](./img/stat_disp_sum.jpg)"
   ]
  },
  {
   "cell_type": "code",
   "execution_count": null,
   "metadata": {},
   "outputs": [],
   "source": []
  }
 ],
 "metadata": {
  "kernelspec": {
   "display_name": "Python 3",
   "language": "python",
   "name": "python3"
  },
  "language_info": {
   "codemirror_mode": {
    "name": "ipython",
    "version": 3
   },
   "file_extension": ".py",
   "mimetype": "text/x-python",
   "name": "python",
   "nbconvert_exporter": "python",
   "pygments_lexer": "ipython3",
   "version": "3.8.5"
  }
 },
 "nbformat": 4,
 "nbformat_minor": 4
}
